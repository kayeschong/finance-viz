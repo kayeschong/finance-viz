{
 "cells": [
  {
   "cell_type": "code",
   "execution_count": 1,
   "metadata": {},
   "outputs": [],
   "source": [
    "import numpy as np\n",
    "from bokeh.layouts import column, row\n",
    "from bokeh.models import CustomJS, Slider, Column\n",
    "from bokeh.plotting import ColumnDataSource, figure, output_notebook, show, output_file\n",
    "from bokeh.models.annotations import Span\n",
    "# output_notebook()"
   ]
  },
  {
   "cell_type": "code",
   "execution_count": 2,
   "metadata": {},
   "outputs": [],
   "source": [
    "max_x = 60\n",
    "call_premium = Slider(start=0, end=max_x, value=0, step=1, title=\"Premium\")\n",
    "strike_price = Slider(start=0, end=max_x, value=10, step=1, title=\"strike_price\")\n",
    "x = np.linspace(0, max_x, 500)\n",
    "y = np.max([np.zeros(x.shape), x - strike_price.value ], axis=0) - call_premium.value\n",
    "\n",
    "source = ColumnDataSource(data=dict(x=x, y=y))\n",
    "plot = figure(x_range = (0, max_x), y_range=(-30, max_x), plot_width=400, plot_height=400)\n",
    "\n",
    "zero = Span(location=0, dimension='width', line_color='firebrick', line_dash='dashed', line_alpha=0.7, line_width=1)\n",
    "plot.add_layout(zero)\n",
    "\n",
    "plot.line('x', 'y', source=source, line_width=3, line_alpha=0.6, color='cadetblue')\n",
    "\n",
    "callback = CustomJS(args=dict(source=source, call_premium=call_premium, strike=strike_price),\n",
    "                    code=\"\"\"\n",
    "    let data = source.data;\n",
    "    let prem = call_premium.value ;\n",
    "    let s = strike.value;\n",
    "    let x = data['x'];\n",
    "    let y = data['y'];\n",
    "    for (let i = 0; i < x.length; i++) {\n",
    "        \n",
    "        y[i] = Math.max(0, x[i] - s) - prem\n",
    "    };\n",
    "    source.change.emit();\n",
    "\"\"\")\n",
    "\n",
    "call_premium.js_on_change('value', callback)\n",
    "strike_price.js_on_change('value', callback)\n",
    "\n",
    "layout = column(call_premium, strike_price, plot)\n",
    "\n",
    "output_file(\"slider.html\", title=\"slider.py example\")\n",
    "show(layout)"
   ]
  },
  {
   "cell_type": "code",
   "execution_count": null,
   "metadata": {},
   "outputs": [],
   "source": []
  },
  {
   "cell_type": "code",
   "execution_count": null,
   "metadata": {},
   "outputs": [],
   "source": []
  }
 ],
 "metadata": {
  "kernelspec": {
   "display_name": "Python 3",
   "language": "python",
   "name": "python3"
  },
  "language_info": {
   "codemirror_mode": {
    "name": "ipython",
    "version": 3
   },
   "file_extension": ".py",
   "mimetype": "text/x-python",
   "name": "python",
   "nbconvert_exporter": "python",
   "pygments_lexer": "ipython3",
   "version": "3.8.2"
  }
 },
 "nbformat": 4,
 "nbformat_minor": 4
}
